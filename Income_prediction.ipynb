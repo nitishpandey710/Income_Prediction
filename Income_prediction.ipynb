{
 "cells": [
  {
   "cell_type": "code",
   "execution_count": 206,
   "id": "f08c9890",
   "metadata": {},
   "outputs": [],
   "source": [
    "#Import Package\n",
    "\n",
    "import pandas as pd\n",
    "import seaborn as sns\n",
    "from sklearn.linear_model import LogisticRegression\n",
    "from sklearn.ensemble import RandomForestClassifier\n",
    "from sklearn.tree import DecisionTreeClassifier\n",
    "from catboost import CatBoostClassifier\n",
    "import lightgbm as lgb\n",
    "from lightgbm import LGBMClassifier\n",
    "import os\n",
    "from sklearn.model_selection import train_test_split\n",
    "from sklearn.metrics import confusion_matrix,classification_report\n",
    "import numpy as np\n",
    "import warnings\n",
    "warnings.filterwarnings(\"ignore\")\n",
    "import xgboost as xgb"
   ]
  },
  {
   "cell_type": "code",
   "execution_count": 230,
   "id": "f8094990",
   "metadata": {},
   "outputs": [],
   "source": [
    "os.chdir(\"C://Users//nitis/Desktop/Data/ml_prj/\")"
   ]
  },
  {
   "cell_type": "code",
   "execution_count": 231,
   "id": "ca1d6ace",
   "metadata": {},
   "outputs": [],
   "source": [
    "#Reading a File\n",
    "\n",
    "dfi=pd.read_csv(\"adult.csv\")"
   ]
  },
  {
   "cell_type": "code",
   "execution_count": 5,
   "id": "e38a004b",
   "metadata": {},
   "outputs": [
    {
     "name": "stdout",
     "output_type": "stream",
     "text": [
      "<class 'pandas.core.frame.DataFrame'>\n",
      "RangeIndex: 48842 entries, 0 to 48841\n",
      "Data columns (total 15 columns):\n",
      " #   Column           Non-Null Count  Dtype \n",
      "---  ------           --------------  ----- \n",
      " 0   age              48842 non-null  int64 \n",
      " 1   workclass        48842 non-null  object\n",
      " 2   fnlwgt           48842 non-null  int64 \n",
      " 3   education        48842 non-null  object\n",
      " 4   educational-num  48842 non-null  int64 \n",
      " 5   marital-status   48842 non-null  object\n",
      " 6   occupation       48842 non-null  object\n",
      " 7   relationship     48842 non-null  object\n",
      " 8   race             48842 non-null  object\n",
      " 9   gender           48842 non-null  object\n",
      " 10  capital-gain     48842 non-null  int64 \n",
      " 11  capital-loss     48842 non-null  int64 \n",
      " 12  hours-per-week   48842 non-null  int64 \n",
      " 13  native-country   48842 non-null  object\n",
      " 14  income           48842 non-null  object\n",
      "dtypes: int64(6), object(9)\n",
      "memory usage: 5.6+ MB\n"
     ]
    }
   ],
   "source": [
    "dfi.info()"
   ]
  },
  {
   "cell_type": "code",
   "execution_count": 7,
   "id": "821a9a8c",
   "metadata": {},
   "outputs": [
    {
     "data": {
      "text/plain": [
       "age                0\n",
       "workclass          0\n",
       "fnlwgt             0\n",
       "education          0\n",
       "educational-num    0\n",
       "marital-status     0\n",
       "occupation         0\n",
       "relationship       0\n",
       "race               0\n",
       "gender             0\n",
       "capital-gain       0\n",
       "capital-loss       0\n",
       "hours-per-week     0\n",
       "native-country     0\n",
       "income             0\n",
       "dtype: int64"
      ]
     },
     "execution_count": 7,
     "metadata": {},
     "output_type": "execute_result"
    }
   ],
   "source": [
    "dfi.isnull().sum()"
   ]
  },
  {
   "cell_type": "code",
   "execution_count": 39,
   "id": "bb25e113",
   "metadata": {},
   "outputs": [
    {
     "name": "stdout",
     "output_type": "stream",
     "text": [
      "age\n",
      "False\n",
      "------\n",
      "workclass\n",
      "True\n",
      "------\n",
      "fnlwgt\n",
      "False\n",
      "------\n",
      "education\n",
      "False\n",
      "------\n",
      "educational-num\n",
      "False\n",
      "------\n",
      "marital-status\n",
      "False\n",
      "------\n",
      "occupation\n",
      "True\n",
      "------\n",
      "relationship\n",
      "False\n",
      "------\n",
      "race\n",
      "False\n",
      "------\n",
      "gender\n",
      "False\n",
      "------\n",
      "capital-gain\n",
      "False\n",
      "------\n",
      "capital-loss\n",
      "False\n",
      "------\n",
      "hours-per-week\n",
      "False\n",
      "------\n",
      "native-country\n",
      "True\n",
      "------\n",
      "income\n",
      "False\n",
      "------\n"
     ]
    }
   ],
   "source": [
    "for i in dfi.columns:\n",
    "    print(i)\n",
    "    print('?' in set(dfi[i])) \n",
    "    print(\"------\")    "
   ]
  },
  {
   "cell_type": "code",
   "execution_count": 48,
   "id": "f403bcb6",
   "metadata": {},
   "outputs": [
    {
     "name": "stdout",
     "output_type": "stream",
     "text": [
      "(3620, 15)\n"
     ]
    }
   ],
   "source": [
    "print(dfi[dfi.eq('?').any(1)].shape)"
   ]
  },
  {
   "cell_type": "code",
   "execution_count": 51,
   "id": "7a7342c5",
   "metadata": {},
   "outputs": [
    {
     "data": {
      "text/plain": [
       "<=50K    37155\n",
       ">50K     11687\n",
       "Name: income, dtype: int64"
      ]
     },
     "execution_count": 51,
     "metadata": {},
     "output_type": "execute_result"
    }
   ],
   "source": [
    "dfi['income'].value_counts()"
   ]
  },
  {
   "cell_type": "code",
   "execution_count": 61,
   "id": "12f65b94",
   "metadata": {},
   "outputs": [
    {
     "data": {
      "text/plain": [
       "(2799, 15)"
      ]
     },
     "execution_count": 61,
     "metadata": {},
     "output_type": "execute_result"
    }
   ],
   "source": [
    "dfi[dfi['workclass']=='?'].shape"
   ]
  },
  {
   "cell_type": "code",
   "execution_count": 119,
   "id": "1cbe3ea0",
   "metadata": {},
   "outputs": [
    {
     "data": {
      "text/plain": [
       "(2809, 15)"
      ]
     },
     "execution_count": 119,
     "metadata": {},
     "output_type": "execute_result"
    }
   ],
   "source": [
    "dfi[dfi['occupation']=='?'].shape"
   ]
  },
  {
   "cell_type": "code",
   "execution_count": 120,
   "id": "3d0b9fa2",
   "metadata": {},
   "outputs": [
    {
     "data": {
      "text/plain": [
       "(857, 15)"
      ]
     },
     "execution_count": 120,
     "metadata": {},
     "output_type": "execute_result"
    }
   ],
   "source": [
    "dfi[dfi['native-country']=='?'].shape"
   ]
  },
  {
   "cell_type": "code",
   "execution_count": 121,
   "id": "9b502e9d",
   "metadata": {},
   "outputs": [],
   "source": [
    "new_df=dfi.replace(to_replace=\"?\",\n",
    "           value=\"missing_value\")"
   ]
  },
  {
   "cell_type": "code",
   "execution_count": 122,
   "id": "30d54145",
   "metadata": {},
   "outputs": [
    {
     "data": {
      "text/plain": [
       "(48842, 15)"
      ]
     },
     "execution_count": 122,
     "metadata": {},
     "output_type": "execute_result"
    }
   ],
   "source": [
    "new_df.shape"
   ]
  },
  {
   "cell_type": "code",
   "execution_count": 123,
   "id": "2993ca75",
   "metadata": {},
   "outputs": [],
   "source": [
    "# find categorical variables,\n",
    "categorical_features = [c for c in new_df.columns if new_df[c].dtypes == 'O']\n",
    "\n",
    "# find numerical variables,\n",
    "numerical_features = [\n",
    "    c for c in new_df.columns if new_df[c].dtypes != 'O']"
   ]
  },
  {
   "cell_type": "code",
   "execution_count": 124,
   "id": "53883fd0",
   "metadata": {},
   "outputs": [
    {
     "data": {
      "text/plain": [
       "['workclass',\n",
       " 'education',\n",
       " 'marital-status',\n",
       " 'occupation',\n",
       " 'relationship',\n",
       " 'race',\n",
       " 'gender',\n",
       " 'native-country',\n",
       " 'income']"
      ]
     },
     "execution_count": 124,
     "metadata": {},
     "output_type": "execute_result"
    }
   ],
   "source": [
    "categorical_features"
   ]
  },
  {
   "cell_type": "code",
   "execution_count": 147,
   "id": "da4bca01",
   "metadata": {},
   "outputs": [
    {
     "data": {
      "text/plain": [
       "['age',\n",
       " 'fnlwgt',\n",
       " 'educational-num',\n",
       " 'capital-gain',\n",
       " 'capital-loss',\n",
       " 'hours-per-week']"
      ]
     },
     "execution_count": 147,
     "metadata": {},
     "output_type": "execute_result"
    }
   ],
   "source": [
    "numerical_features"
   ]
  },
  {
   "cell_type": "code",
   "execution_count": 161,
   "id": "a1ee1ceb",
   "metadata": {},
   "outputs": [],
   "source": [
    "X=new_df.drop(['age',\n",
    " 'fnlwgt',\n",
    " 'educational-num',\n",
    " 'capital-gain',\n",
    " 'capital-loss',\n",
    " 'hours-per-week','income'],axis=1)"
   ]
  },
  {
   "cell_type": "code",
   "execution_count": 162,
   "id": "4c43dff9",
   "metadata": {},
   "outputs": [],
   "source": [
    "#ordinal encode input variables\n",
    "from sklearn.preprocessing import OrdinalEncoder\n",
    "ordinal = OrdinalEncoder()\n",
    "X = ordinal.fit_transform(X)"
   ]
  },
  {
   "cell_type": "code",
   "execution_count": 163,
   "id": "765c633b",
   "metadata": {},
   "outputs": [],
   "source": [
    "dfx = pd.DataFrame(X, columns =['workclass',\n",
    " 'education',\n",
    " 'marital-status',\n",
    " 'occupation',\n",
    " 'relationship',\n",
    " 'race',\n",
    " 'gender',\n",
    " 'native-country'])"
   ]
  },
  {
   "cell_type": "code",
   "execution_count": 164,
   "id": "4ef87157",
   "metadata": {},
   "outputs": [],
   "source": [
    "dfx1=new_df[numerical_features]"
   ]
  },
  {
   "cell_type": "code",
   "execution_count": 165,
   "id": "497f336d",
   "metadata": {},
   "outputs": [
    {
     "data": {
      "text/plain": [
       "pandas.core.frame.DataFrame"
      ]
     },
     "execution_count": 165,
     "metadata": {},
     "output_type": "execute_result"
    }
   ],
   "source": [
    "type(dfx1)"
   ]
  },
  {
   "cell_type": "code",
   "execution_count": 169,
   "id": "d0399408",
   "metadata": {},
   "outputs": [],
   "source": [
    "xin=new_df['income']"
   ]
  },
  {
   "cell_type": "code",
   "execution_count": 170,
   "id": "7680a9fa",
   "metadata": {},
   "outputs": [
    {
     "data": {
      "text/plain": [
       "pandas.core.series.Series"
      ]
     },
     "execution_count": 170,
     "metadata": {},
     "output_type": "execute_result"
    }
   ],
   "source": [
    "type(xin)"
   ]
  },
  {
   "cell_type": "code",
   "execution_count": 171,
   "id": "18a875fc",
   "metadata": {},
   "outputs": [],
   "source": [
    "xincome=xin.to_frame()"
   ]
  },
  {
   "cell_type": "code",
   "execution_count": 172,
   "id": "857e2312",
   "metadata": {},
   "outputs": [],
   "source": [
    "df_col_merged = pd.concat([dfx, dfx1,xincome], axis=1)"
   ]
  },
  {
   "cell_type": "code",
   "execution_count": 173,
   "id": "3af66364",
   "metadata": {},
   "outputs": [
    {
     "data": {
      "text/html": [
       "<div>\n",
       "<style scoped>\n",
       "    .dataframe tbody tr th:only-of-type {\n",
       "        vertical-align: middle;\n",
       "    }\n",
       "\n",
       "    .dataframe tbody tr th {\n",
       "        vertical-align: top;\n",
       "    }\n",
       "\n",
       "    .dataframe thead th {\n",
       "        text-align: right;\n",
       "    }\n",
       "</style>\n",
       "<table border=\"1\" class=\"dataframe\">\n",
       "  <thead>\n",
       "    <tr style=\"text-align: right;\">\n",
       "      <th></th>\n",
       "      <th>workclass</th>\n",
       "      <th>education</th>\n",
       "      <th>marital-status</th>\n",
       "      <th>occupation</th>\n",
       "      <th>relationship</th>\n",
       "      <th>race</th>\n",
       "      <th>gender</th>\n",
       "      <th>native-country</th>\n",
       "      <th>age</th>\n",
       "      <th>fnlwgt</th>\n",
       "      <th>educational-num</th>\n",
       "      <th>capital-gain</th>\n",
       "      <th>capital-loss</th>\n",
       "      <th>hours-per-week</th>\n",
       "      <th>income</th>\n",
       "    </tr>\n",
       "  </thead>\n",
       "  <tbody>\n",
       "    <tr>\n",
       "      <th>0</th>\n",
       "      <td>3.0</td>\n",
       "      <td>1.0</td>\n",
       "      <td>4.0</td>\n",
       "      <td>6.0</td>\n",
       "      <td>3.0</td>\n",
       "      <td>2.0</td>\n",
       "      <td>1.0</td>\n",
       "      <td>38.0</td>\n",
       "      <td>25</td>\n",
       "      <td>226802</td>\n",
       "      <td>7</td>\n",
       "      <td>0</td>\n",
       "      <td>0</td>\n",
       "      <td>40</td>\n",
       "      <td>&lt;=50K</td>\n",
       "    </tr>\n",
       "    <tr>\n",
       "      <th>1</th>\n",
       "      <td>3.0</td>\n",
       "      <td>11.0</td>\n",
       "      <td>2.0</td>\n",
       "      <td>4.0</td>\n",
       "      <td>0.0</td>\n",
       "      <td>4.0</td>\n",
       "      <td>1.0</td>\n",
       "      <td>38.0</td>\n",
       "      <td>38</td>\n",
       "      <td>89814</td>\n",
       "      <td>9</td>\n",
       "      <td>0</td>\n",
       "      <td>0</td>\n",
       "      <td>50</td>\n",
       "      <td>&lt;=50K</td>\n",
       "    </tr>\n",
       "    <tr>\n",
       "      <th>2</th>\n",
       "      <td>1.0</td>\n",
       "      <td>7.0</td>\n",
       "      <td>2.0</td>\n",
       "      <td>10.0</td>\n",
       "      <td>0.0</td>\n",
       "      <td>4.0</td>\n",
       "      <td>1.0</td>\n",
       "      <td>38.0</td>\n",
       "      <td>28</td>\n",
       "      <td>336951</td>\n",
       "      <td>12</td>\n",
       "      <td>0</td>\n",
       "      <td>0</td>\n",
       "      <td>40</td>\n",
       "      <td>&gt;50K</td>\n",
       "    </tr>\n",
       "    <tr>\n",
       "      <th>3</th>\n",
       "      <td>3.0</td>\n",
       "      <td>15.0</td>\n",
       "      <td>2.0</td>\n",
       "      <td>6.0</td>\n",
       "      <td>0.0</td>\n",
       "      <td>2.0</td>\n",
       "      <td>1.0</td>\n",
       "      <td>38.0</td>\n",
       "      <td>44</td>\n",
       "      <td>160323</td>\n",
       "      <td>10</td>\n",
       "      <td>7688</td>\n",
       "      <td>0</td>\n",
       "      <td>40</td>\n",
       "      <td>&gt;50K</td>\n",
       "    </tr>\n",
       "    <tr>\n",
       "      <th>4</th>\n",
       "      <td>8.0</td>\n",
       "      <td>15.0</td>\n",
       "      <td>4.0</td>\n",
       "      <td>14.0</td>\n",
       "      <td>3.0</td>\n",
       "      <td>4.0</td>\n",
       "      <td>0.0</td>\n",
       "      <td>38.0</td>\n",
       "      <td>18</td>\n",
       "      <td>103497</td>\n",
       "      <td>10</td>\n",
       "      <td>0</td>\n",
       "      <td>0</td>\n",
       "      <td>30</td>\n",
       "      <td>&lt;=50K</td>\n",
       "    </tr>\n",
       "    <tr>\n",
       "      <th>...</th>\n",
       "      <td>...</td>\n",
       "      <td>...</td>\n",
       "      <td>...</td>\n",
       "      <td>...</td>\n",
       "      <td>...</td>\n",
       "      <td>...</td>\n",
       "      <td>...</td>\n",
       "      <td>...</td>\n",
       "      <td>...</td>\n",
       "      <td>...</td>\n",
       "      <td>...</td>\n",
       "      <td>...</td>\n",
       "      <td>...</td>\n",
       "      <td>...</td>\n",
       "      <td>...</td>\n",
       "    </tr>\n",
       "    <tr>\n",
       "      <th>48837</th>\n",
       "      <td>3.0</td>\n",
       "      <td>7.0</td>\n",
       "      <td>2.0</td>\n",
       "      <td>12.0</td>\n",
       "      <td>5.0</td>\n",
       "      <td>4.0</td>\n",
       "      <td>0.0</td>\n",
       "      <td>38.0</td>\n",
       "      <td>27</td>\n",
       "      <td>257302</td>\n",
       "      <td>12</td>\n",
       "      <td>0</td>\n",
       "      <td>0</td>\n",
       "      <td>38</td>\n",
       "      <td>&lt;=50K</td>\n",
       "    </tr>\n",
       "    <tr>\n",
       "      <th>48838</th>\n",
       "      <td>3.0</td>\n",
       "      <td>11.0</td>\n",
       "      <td>2.0</td>\n",
       "      <td>6.0</td>\n",
       "      <td>0.0</td>\n",
       "      <td>4.0</td>\n",
       "      <td>1.0</td>\n",
       "      <td>38.0</td>\n",
       "      <td>40</td>\n",
       "      <td>154374</td>\n",
       "      <td>9</td>\n",
       "      <td>0</td>\n",
       "      <td>0</td>\n",
       "      <td>40</td>\n",
       "      <td>&gt;50K</td>\n",
       "    </tr>\n",
       "    <tr>\n",
       "      <th>48839</th>\n",
       "      <td>3.0</td>\n",
       "      <td>11.0</td>\n",
       "      <td>6.0</td>\n",
       "      <td>0.0</td>\n",
       "      <td>4.0</td>\n",
       "      <td>4.0</td>\n",
       "      <td>0.0</td>\n",
       "      <td>38.0</td>\n",
       "      <td>58</td>\n",
       "      <td>151910</td>\n",
       "      <td>9</td>\n",
       "      <td>0</td>\n",
       "      <td>0</td>\n",
       "      <td>40</td>\n",
       "      <td>&lt;=50K</td>\n",
       "    </tr>\n",
       "    <tr>\n",
       "      <th>48840</th>\n",
       "      <td>3.0</td>\n",
       "      <td>11.0</td>\n",
       "      <td>4.0</td>\n",
       "      <td>0.0</td>\n",
       "      <td>3.0</td>\n",
       "      <td>4.0</td>\n",
       "      <td>1.0</td>\n",
       "      <td>38.0</td>\n",
       "      <td>22</td>\n",
       "      <td>201490</td>\n",
       "      <td>9</td>\n",
       "      <td>0</td>\n",
       "      <td>0</td>\n",
       "      <td>20</td>\n",
       "      <td>&lt;=50K</td>\n",
       "    </tr>\n",
       "    <tr>\n",
       "      <th>48841</th>\n",
       "      <td>4.0</td>\n",
       "      <td>11.0</td>\n",
       "      <td>2.0</td>\n",
       "      <td>3.0</td>\n",
       "      <td>5.0</td>\n",
       "      <td>4.0</td>\n",
       "      <td>0.0</td>\n",
       "      <td>38.0</td>\n",
       "      <td>52</td>\n",
       "      <td>287927</td>\n",
       "      <td>9</td>\n",
       "      <td>15024</td>\n",
       "      <td>0</td>\n",
       "      <td>40</td>\n",
       "      <td>&gt;50K</td>\n",
       "    </tr>\n",
       "  </tbody>\n",
       "</table>\n",
       "<p>48842 rows × 15 columns</p>\n",
       "</div>"
      ],
      "text/plain": [
       "       workclass  education  marital-status  occupation  relationship  race  \\\n",
       "0            3.0        1.0             4.0         6.0           3.0   2.0   \n",
       "1            3.0       11.0             2.0         4.0           0.0   4.0   \n",
       "2            1.0        7.0             2.0        10.0           0.0   4.0   \n",
       "3            3.0       15.0             2.0         6.0           0.0   2.0   \n",
       "4            8.0       15.0             4.0        14.0           3.0   4.0   \n",
       "...          ...        ...             ...         ...           ...   ...   \n",
       "48837        3.0        7.0             2.0        12.0           5.0   4.0   \n",
       "48838        3.0       11.0             2.0         6.0           0.0   4.0   \n",
       "48839        3.0       11.0             6.0         0.0           4.0   4.0   \n",
       "48840        3.0       11.0             4.0         0.0           3.0   4.0   \n",
       "48841        4.0       11.0             2.0         3.0           5.0   4.0   \n",
       "\n",
       "       gender  native-country  age  fnlwgt  educational-num  capital-gain  \\\n",
       "0         1.0            38.0   25  226802                7             0   \n",
       "1         1.0            38.0   38   89814                9             0   \n",
       "2         1.0            38.0   28  336951               12             0   \n",
       "3         1.0            38.0   44  160323               10          7688   \n",
       "4         0.0            38.0   18  103497               10             0   \n",
       "...       ...             ...  ...     ...              ...           ...   \n",
       "48837     0.0            38.0   27  257302               12             0   \n",
       "48838     1.0            38.0   40  154374                9             0   \n",
       "48839     0.0            38.0   58  151910                9             0   \n",
       "48840     1.0            38.0   22  201490                9             0   \n",
       "48841     0.0            38.0   52  287927                9         15024   \n",
       "\n",
       "       capital-loss  hours-per-week income  \n",
       "0                 0              40  <=50K  \n",
       "1                 0              50  <=50K  \n",
       "2                 0              40   >50K  \n",
       "3                 0              40   >50K  \n",
       "4                 0              30  <=50K  \n",
       "...             ...             ...    ...  \n",
       "48837             0              38  <=50K  \n",
       "48838             0              40   >50K  \n",
       "48839             0              40  <=50K  \n",
       "48840             0              20  <=50K  \n",
       "48841             0              40   >50K  \n",
       "\n",
       "[48842 rows x 15 columns]"
      ]
     },
     "execution_count": 173,
     "metadata": {},
     "output_type": "execute_result"
    }
   ],
   "source": [
    "df_col_merged"
   ]
  },
  {
   "cell_type": "code",
   "execution_count": 174,
   "id": "b3021f2e",
   "metadata": {},
   "outputs": [],
   "source": [
    "y=df_col_merged['income']"
   ]
  },
  {
   "cell_type": "code",
   "execution_count": 175,
   "id": "f90f8a7a",
   "metadata": {},
   "outputs": [],
   "source": [
    "# Label encode target variable\n",
    "from sklearn.preprocessing import LabelEncoder\n",
    "label_encoder = LabelEncoder()\n",
    "y = label_encoder.fit_transform(y)"
   ]
  },
  {
   "cell_type": "code",
   "execution_count": 179,
   "id": "2df84c60",
   "metadata": {},
   "outputs": [
    {
     "data": {
      "text/plain": [
       "numpy.ndarray"
      ]
     },
     "execution_count": 179,
     "metadata": {},
     "output_type": "execute_result"
    }
   ],
   "source": [
    "type(y)"
   ]
  },
  {
   "cell_type": "code",
   "execution_count": 180,
   "id": "3cb33c4a",
   "metadata": {},
   "outputs": [],
   "source": [
    "yin = pd.DataFrame(y, columns = ['yincome'])"
   ]
  },
  {
   "cell_type": "code",
   "execution_count": 182,
   "id": "7b21fbc5",
   "metadata": {},
   "outputs": [],
   "source": [
    "final_df=pd.concat([df_col_merged,yin], axis=1)"
   ]
  },
  {
   "cell_type": "code",
   "execution_count": 184,
   "id": "da7b742e",
   "metadata": {},
   "outputs": [],
   "source": [
    "final_df.drop('income',axis=1,inplace=True)"
   ]
  },
  {
   "cell_type": "code",
   "execution_count": 186,
   "id": "48dcbf39",
   "metadata": {},
   "outputs": [
    {
     "data": {
      "text/html": [
       "<div>\n",
       "<style scoped>\n",
       "    .dataframe tbody tr th:only-of-type {\n",
       "        vertical-align: middle;\n",
       "    }\n",
       "\n",
       "    .dataframe tbody tr th {\n",
       "        vertical-align: top;\n",
       "    }\n",
       "\n",
       "    .dataframe thead th {\n",
       "        text-align: right;\n",
       "    }\n",
       "</style>\n",
       "<table border=\"1\" class=\"dataframe\">\n",
       "  <thead>\n",
       "    <tr style=\"text-align: right;\">\n",
       "      <th></th>\n",
       "      <th>workclass</th>\n",
       "      <th>education</th>\n",
       "      <th>marital-status</th>\n",
       "      <th>occupation</th>\n",
       "      <th>relationship</th>\n",
       "      <th>race</th>\n",
       "      <th>gender</th>\n",
       "      <th>native-country</th>\n",
       "      <th>age</th>\n",
       "      <th>fnlwgt</th>\n",
       "      <th>educational-num</th>\n",
       "      <th>capital-gain</th>\n",
       "      <th>capital-loss</th>\n",
       "      <th>hours-per-week</th>\n",
       "      <th>yincome</th>\n",
       "    </tr>\n",
       "  </thead>\n",
       "  <tbody>\n",
       "    <tr>\n",
       "      <th>0</th>\n",
       "      <td>3.0</td>\n",
       "      <td>1.0</td>\n",
       "      <td>4.0</td>\n",
       "      <td>6.0</td>\n",
       "      <td>3.0</td>\n",
       "      <td>2.0</td>\n",
       "      <td>1.0</td>\n",
       "      <td>38.0</td>\n",
       "      <td>25</td>\n",
       "      <td>226802</td>\n",
       "      <td>7</td>\n",
       "      <td>0</td>\n",
       "      <td>0</td>\n",
       "      <td>40</td>\n",
       "      <td>0</td>\n",
       "    </tr>\n",
       "    <tr>\n",
       "      <th>1</th>\n",
       "      <td>3.0</td>\n",
       "      <td>11.0</td>\n",
       "      <td>2.0</td>\n",
       "      <td>4.0</td>\n",
       "      <td>0.0</td>\n",
       "      <td>4.0</td>\n",
       "      <td>1.0</td>\n",
       "      <td>38.0</td>\n",
       "      <td>38</td>\n",
       "      <td>89814</td>\n",
       "      <td>9</td>\n",
       "      <td>0</td>\n",
       "      <td>0</td>\n",
       "      <td>50</td>\n",
       "      <td>0</td>\n",
       "    </tr>\n",
       "    <tr>\n",
       "      <th>2</th>\n",
       "      <td>1.0</td>\n",
       "      <td>7.0</td>\n",
       "      <td>2.0</td>\n",
       "      <td>10.0</td>\n",
       "      <td>0.0</td>\n",
       "      <td>4.0</td>\n",
       "      <td>1.0</td>\n",
       "      <td>38.0</td>\n",
       "      <td>28</td>\n",
       "      <td>336951</td>\n",
       "      <td>12</td>\n",
       "      <td>0</td>\n",
       "      <td>0</td>\n",
       "      <td>40</td>\n",
       "      <td>1</td>\n",
       "    </tr>\n",
       "    <tr>\n",
       "      <th>3</th>\n",
       "      <td>3.0</td>\n",
       "      <td>15.0</td>\n",
       "      <td>2.0</td>\n",
       "      <td>6.0</td>\n",
       "      <td>0.0</td>\n",
       "      <td>2.0</td>\n",
       "      <td>1.0</td>\n",
       "      <td>38.0</td>\n",
       "      <td>44</td>\n",
       "      <td>160323</td>\n",
       "      <td>10</td>\n",
       "      <td>7688</td>\n",
       "      <td>0</td>\n",
       "      <td>40</td>\n",
       "      <td>1</td>\n",
       "    </tr>\n",
       "    <tr>\n",
       "      <th>4</th>\n",
       "      <td>8.0</td>\n",
       "      <td>15.0</td>\n",
       "      <td>4.0</td>\n",
       "      <td>14.0</td>\n",
       "      <td>3.0</td>\n",
       "      <td>4.0</td>\n",
       "      <td>0.0</td>\n",
       "      <td>38.0</td>\n",
       "      <td>18</td>\n",
       "      <td>103497</td>\n",
       "      <td>10</td>\n",
       "      <td>0</td>\n",
       "      <td>0</td>\n",
       "      <td>30</td>\n",
       "      <td>0</td>\n",
       "    </tr>\n",
       "  </tbody>\n",
       "</table>\n",
       "</div>"
      ],
      "text/plain": [
       "   workclass  education  marital-status  occupation  relationship  race  \\\n",
       "0        3.0        1.0             4.0         6.0           3.0   2.0   \n",
       "1        3.0       11.0             2.0         4.0           0.0   4.0   \n",
       "2        1.0        7.0             2.0        10.0           0.0   4.0   \n",
       "3        3.0       15.0             2.0         6.0           0.0   2.0   \n",
       "4        8.0       15.0             4.0        14.0           3.0   4.0   \n",
       "\n",
       "   gender  native-country  age  fnlwgt  educational-num  capital-gain  \\\n",
       "0     1.0            38.0   25  226802                7             0   \n",
       "1     1.0            38.0   38   89814                9             0   \n",
       "2     1.0            38.0   28  336951               12             0   \n",
       "3     1.0            38.0   44  160323               10          7688   \n",
       "4     0.0            38.0   18  103497               10             0   \n",
       "\n",
       "   capital-loss  hours-per-week  yincome  \n",
       "0             0              40        0  \n",
       "1             0              50        0  \n",
       "2             0              40        1  \n",
       "3             0              40        1  \n",
       "4             0              30        0  "
      ]
     },
     "execution_count": 186,
     "metadata": {},
     "output_type": "execute_result"
    }
   ],
   "source": [
    "final_df.head()"
   ]
  },
  {
   "cell_type": "code",
   "execution_count": 216,
   "id": "5a8ea823",
   "metadata": {},
   "outputs": [
    {
     "data": {
      "image/png": "[encoded data removed]",
      "text/plain": [
       "<Figure size 720x720 with 2 Axes>"
      ]
     },
     "metadata": {
      "needs_background": "light"
     },
     "output_type": "display_data"
    }
   ],
   "source": [
    "from seaborn import heatmap\n",
    "import matplotlib.pyplot as plt\n",
    "gif,ax=plt.subplots(figsize=(10,10))\n",
    "ax=heatmap(final_df.corr(),fmt=\".2f\",annot=True,ax=ax,cmap=\"RdBu_r\",vmin=-1,vmax=1)"
   ]
  },
  {
   "cell_type": "code",
   "execution_count": 187,
   "id": "6084d6c4",
   "metadata": {},
   "outputs": [],
   "source": [
    "X=final_df.drop('yincome',axis=1)"
   ]
  },
  {
   "cell_type": "code",
   "execution_count": 189,
   "id": "a2ee30a7",
   "metadata": {},
   "outputs": [],
   "source": [
    "y=final_df['yincome']"
   ]
  },
  {
   "cell_type": "code",
   "execution_count": 191,
   "id": "bebc20e3",
   "metadata": {},
   "outputs": [],
   "source": [
    "X_train,X_test,y_train,y_test=train_test_split(X,y,test_size=0.3,random_state=42)"
   ]
  },
  {
   "cell_type": "code",
   "execution_count": 195,
   "id": "7cbdbd7b",
   "metadata": {},
   "outputs": [
    {
     "name": "stdout",
     "output_type": "stream",
     "text": [
      "(34189, 14)\n",
      "(14653, 14)\n",
      "(34189,)\n",
      "(14653,)\n"
     ]
    }
   ],
   "source": [
    "print(X_train.shape)\n",
    "print(X_test.shape)\n",
    "print(y_train.shape)\n",
    "print(y_test.shape)"
   ]
  },
  {
   "cell_type": "code",
   "execution_count": 196,
   "id": "d05160b9",
   "metadata": {},
   "outputs": [],
   "source": [
    "#Logistic Regression"
   ]
  },
  {
   "cell_type": "code",
   "execution_count": 197,
   "id": "a68e3360",
   "metadata": {},
   "outputs": [
    {
     "name": "stdout",
     "output_type": "stream",
     "text": [
      "0.787504752990728\n",
      "0.7992220023203439\n",
      "[[10693  2402]\n",
      " [  540  1018]]\n",
      "              precision    recall  f1-score   support\n",
      "\n",
      "           0       0.95      0.82      0.88     13095\n",
      "           1       0.30      0.65      0.41      1558\n",
      "\n",
      "    accuracy                           0.80     14653\n",
      "   macro avg       0.62      0.73      0.64     14653\n",
      "weighted avg       0.88      0.80      0.83     14653\n",
      "\n"
     ]
    }
   ],
   "source": [
    "lgr=LogisticRegression()\n",
    "lgr.fit(X_train,y_train)\n",
    "print(lgr.score(X_train,y_train))\n",
    "print(lgr.score(X_test,y_test))\n",
    "y_pred=lgr.predict(X_test)\n",
    "print(confusion_matrix(y_pred,y_test))\n",
    "print(classification_report(y_pred,y_test))"
   ]
  },
  {
   "cell_type": "code",
   "execution_count": 199,
   "id": "62e3a418",
   "metadata": {},
   "outputs": [
    {
     "name": "stdout",
     "output_type": "stream",
     "text": [
      "0.8836760361519788\n",
      "0.879751586705794\n",
      "[[10593  1122]\n",
      " [  640  2298]]\n",
      "              precision    recall  f1-score   support\n",
      "\n",
      "           0       0.94      0.90      0.92     11715\n",
      "           1       0.67      0.78      0.72      2938\n",
      "\n",
      "    accuracy                           0.88     14653\n",
      "   macro avg       0.81      0.84      0.82     14653\n",
      "weighted avg       0.89      0.88      0.88     14653\n",
      "\n"
     ]
    }
   ],
   "source": [
    "from lightgbm import LGBMClassifier\n",
    "ltc=LGBMClassifier()\n",
    "ltc.fit(X_train,y_train)\n",
    "print(ltc.score(X_train,y_train))\n",
    "print(ltc.score(X_test,y_test))\n",
    "y_pred=ltc.predict(X_test)\n",
    "print(confusion_matrix(y_pred,y_test))\n",
    "print(classification_report(y_pred,y_test))"
   ]
  },
  {
   "cell_type": "code",
   "execution_count": 200,
   "id": "a0fc0b0d",
   "metadata": {},
   "outputs": [
    {
     "name": "stdout",
     "output_type": "stream",
     "text": [
      "0.9999122524788675\n",
      "0.818194226438272\n",
      "[[9841 1272]\n",
      " [1392 2148]]\n",
      "              precision    recall  f1-score   support\n",
      "\n",
      "           0       0.88      0.89      0.88     11113\n",
      "           1       0.63      0.61      0.62      3540\n",
      "\n",
      "    accuracy                           0.82     14653\n",
      "   macro avg       0.75      0.75      0.75     14653\n",
      "weighted avg       0.82      0.82      0.82     14653\n",
      "\n"
     ]
    }
   ],
   "source": [
    "from sklearn.tree import DecisionTreeClassifier\n",
    "dtr=DecisionTreeClassifier()\n",
    "dtr.fit(X_train,y_train)\n",
    "print(dtr.score(X_train,y_train))\n",
    "print(dtr.score(X_test,y_test))\n",
    "y_pred=dtr.predict(X_test)\n",
    "print(confusion_matrix(y_pred,y_test))\n",
    "print(classification_report(y_pred,y_test))"
   ]
  },
  {
   "cell_type": "code",
   "execution_count": 227,
   "id": "d8739ce2",
   "metadata": {},
   "outputs": [],
   "source": [
    "search_dict={'max_depth':[1,3,4,5,6,7,8,9,10,14,15,16,20],\n",
    "            'min_samples_leaf':[1,2,3,4,5,6,7,8,9,10]}"
   ]
  },
  {
   "cell_type": "code",
   "execution_count": 217,
   "id": "69556727",
   "metadata": {},
   "outputs": [],
   "source": [
    "from sklearn.experimental import enable_halving_search_cv\n",
    "from sklearn.model_selection import HalvingRandomSearchCV"
   ]
  },
  {
   "cell_type": "code",
   "execution_count": 221,
   "id": "c7bc23fa",
   "metadata": {},
   "outputs": [],
   "source": [
    "search_func=HalvingRandomSearchCV(estimator=dtr,param_distributions=search_dict,n_jobs=-1,max_resources=100,random_state=42)"
   ]
  },
  {
   "cell_type": "code",
   "execution_count": 222,
   "id": "f4f1fb3f",
   "metadata": {},
   "outputs": [
    {
     "data": {
      "text/plain": [
       "HalvingRandomSearchCV(estimator=DecisionTreeClassifier(), max_resources=100,\n",
       "                      n_jobs=-1,\n",
       "                      param_distributions={'max_depth': [1, 3, 4, 5, 6, 7, 8, 9,\n",
       "                                                         10, 14, 15, 16, 20],\n",
       "                                           'min_samples_leaf': [1, 2, 3, 4, 5,\n",
       "                                                                6, 7, 8, 9,\n",
       "                                                                10]},\n",
       "                      random_state=42,\n",
       "                      refit=<function _refit_callable at 0x000001AF552FAE50>)"
      ]
     },
     "execution_count": 222,
     "metadata": {},
     "output_type": "execute_result"
    }
   ],
   "source": [
    "search_func"
   ]
  },
  {
   "cell_type": "code",
   "execution_count": 223,
   "id": "90fc9e22",
   "metadata": {},
   "outputs": [
    {
     "data": {
      "text/plain": [
       "HalvingRandomSearchCV(estimator=DecisionTreeClassifier(), max_resources=100,\n",
       "                      n_jobs=-1,\n",
       "                      param_distributions={'max_depth': [1, 3, 4, 5, 6, 7, 8, 9,\n",
       "                                                         10, 14, 15, 16, 20],\n",
       "                                           'min_samples_leaf': [1, 2, 3, 4, 5,\n",
       "                                                                6, 7, 8, 9,\n",
       "                                                                10]},\n",
       "                      random_state=42,\n",
       "                      refit=<function _refit_callable at 0x000001AF552FAE50>)"
      ]
     },
     "execution_count": 223,
     "metadata": {},
     "output_type": "execute_result"
    }
   ],
   "source": [
    "search_func.fit(X_train,y_train)"
   ]
  },
  {
   "cell_type": "code",
   "execution_count": 226,
   "id": "e8c0f98f",
   "metadata": {},
   "outputs": [
    {
     "name": "stdout",
     "output_type": "stream",
     "text": [
      "{'min_samples_leaf': 10, 'max_depth': 3}\n",
      "0.7803030303030303\n"
     ]
    }
   ],
   "source": [
    "print(search_func.best_params_)\n",
    "print(search_func.best_score_)"
   ]
  },
  {
   "cell_type": "code",
   "execution_count": 228,
   "id": "c233e55a",
   "metadata": {},
   "outputs": [
    {
     "name": "stdout",
     "output_type": "stream",
     "text": [
      "0.837140600778028\n",
      "0.8453558998157374\n",
      "[[10736  1769]\n",
      " [  497  1651]]\n",
      "              precision    recall  f1-score   support\n",
      "\n",
      "           0       0.96      0.86      0.90     12505\n",
      "           1       0.48      0.77      0.59      2148\n",
      "\n",
      "    accuracy                           0.85     14653\n",
      "   macro avg       0.72      0.81      0.75     14653\n",
      "weighted avg       0.89      0.85      0.86     14653\n",
      "\n"
     ]
    }
   ],
   "source": [
    "from sklearn.tree import DecisionTreeClassifier\n",
    "tunedtr=DecisionTreeClassifier(min_samples_leaf=10,max_depth=3)\n",
    "tunedtr.fit(X_train,y_train)\n",
    "print(tunedtr.score(X_train,y_train))\n",
    "print(tunedtr.score(X_test,y_test))\n",
    "y_pred=tunedtr.predict(X_test)\n",
    "print(confusion_matrix(y_pred,y_test))\n",
    "print(classification_report(y_pred,y_test))"
   ]
  },
  {
   "cell_type": "code",
   "execution_count": 201,
   "id": "9079713b",
   "metadata": {},
   "outputs": [
    {
     "name": "stdout",
     "output_type": "stream",
     "text": [
      "0.9998537541314458\n",
      "0.8651470688596192\n",
      "[[10478  1221]\n",
      " [  755  2199]]\n",
      "              precision    recall  f1-score   support\n",
      "\n",
      "           0       0.93      0.90      0.91     11699\n",
      "           1       0.64      0.74      0.69      2954\n",
      "\n",
      "    accuracy                           0.87     14653\n",
      "   macro avg       0.79      0.82      0.80     14653\n",
      "weighted avg       0.87      0.87      0.87     14653\n",
      "\n"
     ]
    }
   ],
   "source": [
    "from sklearn.ensemble import RandomForestClassifier\n",
    "rfc=RandomForestClassifier()\n",
    "rfc.fit(X_train,y_train)\n",
    "print(rfc.score(X_train,y_train))\n",
    "print(rfc.score(X_test,y_test))\n",
    "y_pred=rfc.predict(X_test)\n",
    "print(confusion_matrix(y_pred,y_test))\n",
    "print(classification_report(y_pred,y_test))"
   ]
  },
  {
   "cell_type": "code",
   "execution_count": 205,
   "id": "20f1c7be",
   "metadata": {},
   "outputs": [],
   "source": [
    "#!pip install xgboost"
   ]
  },
  {
   "cell_type": "code",
   "execution_count": 208,
   "id": "435756b4",
   "metadata": {},
   "outputs": [
    {
     "data": {
      "text/plain": [
       "XGBClassifier(base_score=0.5, booster='gbtree', callbacks=None,\n",
       "              colsample_bylevel=1, colsample_bynode=1, colsample_bytree=1,\n",
       "              early_stopping_rounds=None, enable_categorical=False,\n",
       "              eval_metric=None, gamma=0, gpu_id=-1, grow_policy='depthwise',\n",
       "              importance_type=None, interaction_constraints='',\n",
       "              learning_rate=0.300000012, max_bin=256, max_cat_to_onehot=4,\n",
       "              max_delta_step=0, max_depth=6, max_leaves=0, min_child_weight=1,\n",
       "              missing=nan, monotone_constraints='()', n_estimators=100,\n",
       "              n_jobs=0, num_parallel_tree=1, predictor='auto', random_state=42,\n",
       "              reg_alpha=0, reg_lambda=1, ...)"
      ]
     },
     "execution_count": 208,
     "metadata": {},
     "output_type": "execute_result"
    }
   ],
   "source": [
    "xgbc=xgb.XGBClassifier(random_state=42)\n",
    "xgbc.fit(X_train,y_train)"
   ]
  },
  {
   "cell_type": "code",
   "execution_count": 229,
   "id": "50be4ed8",
   "metadata": {},
   "outputs": [
    {
     "name": "stdout",
     "output_type": "stream",
     "text": [
      "0.9037702184913277\n",
      "0.8775677335699175\n",
      "[[10541  1102]\n",
      " [  692  2318]]\n",
      "              precision    recall  f1-score   support\n",
      "\n",
      "           0       0.94      0.91      0.92     11643\n",
      "           1       0.68      0.77      0.72      3010\n",
      "\n",
      "    accuracy                           0.88     14653\n",
      "   macro avg       0.81      0.84      0.82     14653\n",
      "weighted avg       0.88      0.88      0.88     14653\n",
      "\n"
     ]
    }
   ],
   "source": [
    "print(xgbc.score(X_train,y_train))\n",
    "print(xgbc.score(X_test,y_test))\n",
    "y_pred=xgbc.predict(X_test)\n",
    "print(confusion_matrix(y_pred,y_test))\n",
    "print(classification_report(y_pred,y_test))"
   ]
  },
  {
   "cell_type": "code",
   "execution_count": null,
   "id": "e6edc77f",
   "metadata": {},
   "outputs": [],
   "source": []
  }
 ],
 "metadata": {
  "kernelspec": {
   "display_name": "Python 3 (ipykernel)",
   "language": "python",
   "name": "python3"
  },
  "language_info": {
   "codemirror_mode": {
    "name": "ipython",
    "version": 3
   },
   "file_extension": ".py",
   "mimetype": "text/x-python",
   "name": "python",
   "nbconvert_exporter": "python",
   "pygments_lexer": "ipython3",
   "version": "3.9.7"
  }
 },
 "nbformat": 4,
 "nbformat_minor": 5
}
